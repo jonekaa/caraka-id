{
 "cells": [
  {
   "cell_type": "code",
   "execution_count": 1,
   "id": "initial_id",
   "metadata": {
    "collapsed": true,
    "ExecuteTime": {
     "end_time": "2023-11-16T06:32:37.101829600Z",
     "start_time": "2023-11-16T06:32:36.692752Z"
    }
   },
   "outputs": [],
   "source": [
    "import os\n",
    "import shutil\n",
    "import pandas as pd"
   ]
  },
  {
   "cell_type": "code",
   "execution_count": 12,
   "outputs": [],
   "source": [
    "root_dir = '../data/'\n",
    "\n",
    "def organize_files(csv_path, source_dir, target_dir):\n",
    "    # read csv\n",
    "    df = pd.read_csv(csv_path)\n",
    "    \n",
    "    # Iterate through each row in the csv\n",
    "    for index, row in df.iterrows():\n",
    "        filename = row['filename']\n",
    "        label = row.drop('filename').idxmax()\n",
    "        \n",
    "        # Check if the file exists before moving\n",
    "        source_path = os.path.join(source_dir, filename)\n",
    "        if os.path.exists(source_path):\n",
    "            # Create destination folder\n",
    "            destination_folder = os.path.join(target_dir, label)\n",
    "            os.makedirs(destination_folder, exist_ok=True)\n",
    "            \n",
    "            # Move the file to the destination folder\n",
    "            destination_path = os.path.join(destination_folder, filename)\n",
    "            shutil.move(source_path, destination_path)\n",
    "        else:\n",
    "            print(f'File {filename} not found in {source_dir}')\n",
    "    "
   ],
   "metadata": {
    "collapsed": false,
    "ExecuteTime": {
     "end_time": "2023-11-16T06:47:52.129795400Z",
     "start_time": "2023-11-16T06:47:52.101774300Z"
    }
   },
   "id": "b92be950f4f5e8bf"
  }
 ],
 "metadata": {
  "kernelspec": {
   "display_name": "Python 3",
   "language": "python",
   "name": "python3"
  },
  "language_info": {
   "codemirror_mode": {
    "name": "ipython",
    "version": 2
   },
   "file_extension": ".py",
   "mimetype": "text/x-python",
   "name": "python",
   "nbconvert_exporter": "python",
   "pygments_lexer": "ipython2",
   "version": "2.7.6"
  }
 },
 "nbformat": 4,
 "nbformat_minor": 5
}
