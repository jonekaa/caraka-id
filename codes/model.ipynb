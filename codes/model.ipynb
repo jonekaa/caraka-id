{
 "cells": [
  {
   "cell_type": "code",
   "execution_count": null,
   "id": "initial_id",
   "metadata": {
    "collapsed": true
   },
   "outputs": [],
   "source": [
    "import os\n",
    "import pathlib\n",
    "import numpy as np\n",
    "import tensorflow as tf\n",
    "import matplotlib.pyplot as plt"
   ]
  },
  {
   "cell_type": "code",
   "execution_count": null,
   "outputs": [],
   "source": [
    "AKSARA_BALI_DIR = pathlib.Path('../data/Aksara-Bali')\n",
    "AKSARA_SUNDA_DIR = pathlib.Path('../data/Aksara-Sunda')\n",
    "AKSARA_LAMPUNG_DIR = pathlib.Path('../data/Aksara-Lampung')"
   ],
   "metadata": {
    "collapsed": false
   },
   "id": "582f2447d529f564"
  },
  {
   "cell_type": "code",
   "execution_count": null,
   "outputs": [],
   "source": [
    "def CreateDatasets(DATA_DIR, type=None):\n",
    "    data_ds = tf.keras.utils.image_dataset_from_directory(\n",
    "        DATA_DIR,\n",
    "        label_mode='categorical',\n",
    "        color_mode='rgb',\n",
    "        batch_size=32,\n",
    "        image_size=(150, 150),\n",
    "        seed=1234,\n",
    "        validation_split=0.2,\n",
    "        subset='training'\n",
    "    )\n",
    "    \n",
    "    return data_ds\n",
    "\n",
    "AKSARA_TYPE = 'bali'\n",
    "\n",
    "if AKSARA_TYPE == 'bali':\n",
    "    DATA_DIR = AKSARA_BALI_DIR\n",
    "elif AKSARA_TYPE == 'sunda':\n",
    "    DATA_DIR = AKSARA_SUNDA_DIR\n",
    "elif AKSARA_TYPE == 'lampung':\n",
    "    DATA_DIR = AKSARA_LAMPUNG_DIR\n",
    "else: raise ValueError('Not on our scripts')\n",
    "\n",
    "train_ds = CreateDatasets(DATA_DIR, 'training')\n",
    "valid_ds = CreateDatasets(DATA_DIR, 'validation')"
   ],
   "metadata": {
    "collapsed": false
   },
   "id": "12ce2ff0005971fc"
  },
  {
   "cell_type": "code",
   "execution_count": null,
   "outputs": [],
   "source": [
    "class_names = train_ds.class_names\n",
    "NUM_CLASSES = len(class_names)\n",
    "\n",
    "print(f'Class names: \\n{class_names}'\n",
    "      f'\\n\\nTotal Class : {NUM_CLASSES}')"
   ],
   "metadata": {
    "collapsed": false
   },
   "id": "c44a6cb37796bd57"
  },
  {
   "cell_type": "code",
   "execution_count": null,
   "outputs": [],
   "source": [
    "def PlotDatasets(dataset, class_list):\n",
    "    plt.figure(figsize=(16, 16))\n",
    "    for images, labels in dataset.take(1):\n",
    "        for i in range(16):\n",
    "            plt.subplot(4, 4, i + 1)\n",
    "            plt.imshow(images[i].numpy().astype('uint8'))\n",
    "            clas_index = np.argmax(labels[i])\n",
    "            plt.title(class_list[class_index])\n",
    "            plt.axis='off'\n",
    "            \n",
    "PlotDatasets(train_ds, class_names)"
   ],
   "metadata": {
    "collapsed": false
   },
   "id": "5f594399265b321e"
  },
  {
   "cell_type": "code",
   "execution_count": null,
   "outputs": [],
   "source": [
    "for image_batch, labels_batch in train_ds:\n",
    "  print('Batch Image Shape:', image_batch.shape)\n",
    "  print('Batch Labels Shape:', labels_batch.shape)\n",
    "  break"
   ],
   "metadata": {
    "collapsed": false
   },
   "id": "3ff041829b37153e"
  },
  {
   "cell_type": "code",
   "execution_count": null,
   "outputs": [],
   "source": [
    "# IF YOU ARE USING TRANSFER LEARNING DON'T RUN THIS\n",
    "\n",
    "RESCALE = tf.keras.models.Sequential([keras.layers.Rescaling(1./255.)])\n",
    "\n",
    "train_ds = train_ds.map(lambda x, y: (RESCALE(x), y))\n",
    "valid_ds = valid_ds.map(lambda x, y: (RESCALE(x), y))"
   ],
   "metadata": {
    "collapsed": false
   },
   "id": "c77ae73830d6c7f"
  },
  {
   "cell_type": "code",
   "execution_count": null,
   "outputs": [],
   "source": [
    "AUTOTUNE = tf.data.AUTOTUNE\n",
    "\n",
    "train_ds = train_ds.cache().prefetch(buffer_size=AUTOTUNE)\n",
    "valid_ds = valid_ds.cache().prefetch(buffer_size=AUTOTUNE)"
   ],
   "metadata": {
    "collapsed": false
   },
   "id": "693d6cf0f339fe2d"
  },
  {
   "cell_type": "code",
   "execution_count": null,
   "outputs": [],
   "source": [
    "class myCallback(tf.keras.callbacks.Callback):\n",
    "  def on_epoch_end(self, epoch, logs={}):\n",
    "    if logs.get('val_accuracy')>0.999 and logs.get('accuracy')>0.999:\n",
    "      print(\"\\nReached 99.9% accuracy!\")\n",
    "      self.model.stop_training = True\n",
    "\n",
    "callbacks = myCallback()"
   ],
   "metadata": {
    "collapsed": false
   },
   "id": "715d7e50928bb466"
  },
  {
   "cell_type": "code",
   "execution_count": null,
   "outputs": [],
   "source": [
    "def save_my_model(model, history, aksara_type=None, type=None):\n",
    "    accuracy = history.history['accuracy'][-1] * 1000\n",
    "    val_accuracy = history.history['val_accuracy'][-1] * 1000\n",
    "    \n",
    "    model.save(f'../models/model_{type}_{aksara_type}_{int(accuracy)}_{int(val_accuracy)}.h5')"
   ],
   "metadata": {
    "collapsed": false
   },
   "id": "df7b67ddd83160a2"
  },
  {
   "cell_type": "code",
   "execution_count": null,
   "outputs": [],
   "source": [
    "base_model = tf.keras.applications.EfficientNetV2B0(\n",
    "    include_top=False,\n",
    "    weights='imagenet',\n",
    "    input_shape=(150, 150, 3)\n",
    ")\n",
    "\n",
    "base_model.trainable = False\n",
    "\n",
    "inputs = tf.keras.Input(shape=(150, 150, 3))\n",
    "\n",
    "model = tf.keras.models.Sequential([\n",
    "    inputs,\n",
    "    base_model,\n",
    "    tf.keras.layers.Flatten(),\n",
    "    tf.keras.layers.Dense((NUM_CLASSES * 15), activation='relu'),\n",
    "    tf.keras.layers.Dropout(0.2),\n",
    "    tf.keras.layers.Dense(NUM_CLASSES, activation='softmax')\n",
    "], name=f'{AKSARA_TYPE}nese script')"
   ],
   "metadata": {
    "collapsed": false
   },
   "id": "2033d180724006ab"
  },
  {
   "cell_type": "code",
   "execution_count": null,
   "outputs": [],
   "source": [
    "model.summary()"
   ],
   "metadata": {
    "collapsed": false
   },
   "id": "c83930dda0ebf07d"
  },
  {
   "cell_type": "code",
   "execution_count": null,
   "outputs": [],
   "source": [
    "model.compile(\n",
    "    optimizer=tf.keras.optimizers.AdamW(learning_rate=0.0005),\n",
    "    loss='categorical_crossentropy',\n",
    "    metrics=['accuracy']\n",
    ")"
   ],
   "metadata": {
    "collapsed": false
   },
   "id": "4cbc9e9beebf3a07"
  },
  {
   "cell_type": "code",
   "execution_count": null,
   "outputs": [],
   "source": [
    "history = model.fit(\n",
    "    train_ds,\n",
    "    epochs=50,\n",
    "    verbose=1,\n",
    "    validation_data=valid_ds,\n",
    "    callbacks=callbacks\n",
    ")"
   ],
   "metadata": {
    "collapsed": false
   },
   "id": "a5494f26bea0e83f"
  },
  {
   "cell_type": "code",
   "execution_count": null,
   "outputs": [],
   "source": [
    "plt.figure(figsize=(10, 6))\n",
    "plt.plot(history.history['accuracy'])\n",
    "plt.plot(history.history['val_accuracy'])\n",
    "plt.title('Model Accuracy')\n",
    "plt.xlabel('Epoch')\n",
    "plt.ylabel('Accuracy')\n",
    "plt.legend(['Train', 'Validation'], loc='upper right')\n",
    "\n",
    "plt.tight_layout()\n",
    "plt.show()"
   ],
   "metadata": {
    "collapsed": false
   },
   "id": "4e3e5b2709236693"
  },
  {
   "cell_type": "code",
   "execution_count": null,
   "outputs": [],
   "source": [
    "save_my_model(model, history, AKSARA_TYPE, 'efficientnet-b0')"
   ],
   "metadata": {
    "collapsed": false
   },
   "id": "305b980bf1dfe61f"
  }
 ],
 "metadata": {
  "kernelspec": {
   "display_name": "Python 3",
   "language": "python",
   "name": "python3"
  },
  "language_info": {
   "codemirror_mode": {
    "name": "ipython",
    "version": 2
   },
   "file_extension": ".py",
   "mimetype": "text/x-python",
   "name": "python",
   "nbconvert_exporter": "python",
   "pygments_lexer": "ipython2",
   "version": "2.7.6"
  }
 },
 "nbformat": 4,
 "nbformat_minor": 5
}
