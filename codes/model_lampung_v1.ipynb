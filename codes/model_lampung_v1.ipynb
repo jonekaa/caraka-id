{
 "cells": [
  {
   "cell_type": "code",
   "execution_count": null,
   "id": "initial_id",
   "metadata": {
    "collapsed": true
   },
   "outputs": [],
   "source": [
    "import os\n",
    "import pathlib\n",
    "import keras\n",
    "import numpy as np\n",
    "import tensorflow as tf"
   ]
  },
  {
   "cell_type": "code",
   "execution_count": null,
   "outputs": [],
   "source": [
    "root_dir = pathlib.Path('../data/Aksara-Lampung')"
   ],
   "metadata": {
    "collapsed": false
   },
   "id": "4bfecc4ad6ff8866"
  },
  {
   "cell_type": "code",
   "execution_count": null,
   "outputs": [],
   "source": [
    "def CreateDataset(data_dir, type=None):\n",
    "    data_ds = tf.keras.utils.image_dataset_from_directory(\n",
    "        data_dir,\n",
    "        label_mode='categorical',\n",
    "        color_mode='rgb',\n",
    "        batch_size=32,\n",
    "        image_size=(150, 150),\n",
    "        seed=123,\n",
    "        validation_split=0.2,\n",
    "        subset=type\n",
    "    )\n",
    "    \n",
    "    return data_ds\n",
    "\n",
    "train_ds = CreateDataset(root_dir, 'training')\n",
    "valid_ds = CreateDataset(root_dir, 'validation')"
   ],
   "metadata": {
    "collapsed": false
   },
   "id": "7c0ca48568756808"
  },
  {
   "cell_type": "code",
   "execution_count": null,
   "outputs": [],
   "source": [
    "class_names = train_ds.class_names\n",
    "print('Class Names:\\n {}'.format(class_names))"
   ],
   "metadata": {
    "collapsed": false
   },
   "id": "914c6e2e087eaf64"
  },
  {
   "cell_type": "code",
   "execution_count": null,
   "outputs": [],
   "source": [
    "import matplotlib.pyplot as plt\n",
    "\n",
    "def PlotDataset(dataset, class_list):\n",
    "    plt.figure(figsize=(16, 16))\n",
    "    for images, labels in dataset.take(1):\n",
    "        for i in range(16):\n",
    "            plt.subplot(4, 4, i + 1)\n",
    "            plt.imshow(images[i].numpy().astype('uint8'))\n",
    "            class_index = np.argmax(labels[i])\n",
    "            plt.title(class_list[class_index])\n",
    "            plt.axis('off')\n",
    "\n",
    "PlotDataset(train_ds, class_names)"
   ],
   "metadata": {
    "collapsed": false
   },
   "id": "e646a79cf7da6319"
  },
  {
   "cell_type": "code",
   "execution_count": null,
   "outputs": [],
   "source": [
    "for image_batch, labels_batch in train_ds:\n",
    "  print('Batch Image Shape:', image_batch.shape)\n",
    "  print('Batch Labels Shape:', labels_batch.shape)\n",
    "  break"
   ],
   "metadata": {
    "collapsed": false
   },
   "id": "235bae1ee9893123"
  },
  {
   "cell_type": "code",
   "execution_count": null,
   "outputs": [],
   "source": [
    "# DON'T RUN THIS IF USING TRANSFER LEARNING\n",
    "\n",
    "RESCALE = tf.keras.models.Sequential([keras.layers.Rescaling(1./255.)])\n",
    "\n",
    "train_ds = train_ds.map(lambda x, y: (RESCALE(x), y))\n",
    "valid_ds = valid_ds.map(lambda x, y: (RESCALE(x), y))"
   ],
   "metadata": {
    "collapsed": false
   },
   "id": "1675420015339e61"
  },
  {
   "cell_type": "code",
   "execution_count": null,
   "outputs": [],
   "source": [
    "AUTOTUNE = tf.data.AUTOTUNE\n",
    "\n",
    "train_ds = train_ds.cache().prefetch(buffer_size=AUTOTUNE)\n",
    "valid_ds = valid_ds.cache().prefetch(buffer_size=AUTOTUNE)"
   ],
   "metadata": {
    "collapsed": false
   },
   "id": "dea9b0dbabe5b73d"
  },
  {
   "cell_type": "code",
   "execution_count": null,
   "outputs": [],
   "source": [
    "inputs = tf.keras.Input(shape=(150, 150, 3))\n",
    "\n",
    "model = tf.keras.models.Sequential([\n",
    "    inputs, \n",
    "    tf.keras.layers.Conv2D(64, (3, 3), activation='relu'),\n",
    "    tf.keras.layers.MaxPooling2D((2, 2)),\n",
    "    tf.keras.layers.Conv2D(64, (3, 3), activation='relu'),\n",
    "    tf.keras.layers.MaxPooling2D((2, 2)),\n",
    "    tf.keras.layers.Conv2D(128, (3, 3), activation='relu'),\n",
    "    tf.keras.layers.MaxPooling2D((2, 2)),\n",
    "    tf.keras.layers.Dropout(0.2),\n",
    "    tf.keras.layers.Flatten(),\n",
    "    tf.keras.layers.Dense(700, activation='relu'),\n",
    "    tf.keras.layers.Dense(560, activation='relu'),\n",
    "    tf.keras.layers.Dropout(0.2),\n",
    "    tf.keras.layers.Dense(28, activation='softmax', name='classification_layers')\n",
    "])\n",
    "\n",
    "model.summary()"
   ],
   "metadata": {
    "collapsed": false
   },
   "id": "2777938a28cf61b0"
  },
  {
   "cell_type": "code",
   "execution_count": null,
   "outputs": [],
   "source": [
    "model.compile(\n",
    "    optimizer=tf.keras.optimizers.AdamW(learning_rate=0.0005),\n",
    "    loss='categorical_crossentropy',\n",
    "    metrics=['accuracy']\n",
    ")"
   ],
   "metadata": {
    "collapsed": false
   },
   "id": "54d6fec90e64d735"
  },
  {
   "cell_type": "code",
   "execution_count": null,
   "outputs": [],
   "source": [
    "class myCallback(tf.keras.callbacks.Callback):\n",
    "  def on_epoch_end(self, epoch, logs={}):\n",
    "    if logs.get('val_accuracy')>0.99 and logs.get('accuracy')>0.99:\n",
    "      print(\"\\nReached 99% accuracy so cancelling training!\")\n",
    "      self.model.stop_training = True\n",
    "\n",
    "callbacks = myCallback()"
   ],
   "metadata": {
    "collapsed": false
   },
   "id": "e848957a7fe764b6"
  },
  {
   "cell_type": "code",
   "execution_count": null,
   "outputs": [],
   "source": [
    "history = model.fit(\n",
    "    train_ds,\n",
    "    epochs=50,\n",
    "    validation_data=valid_ds,\n",
    "    verbose=1,\n",
    "    callbacks=[tf.keras.callbacks.EarlyStopping(monitor='val_accuracy', patience=5), callbacks]\n",
    ")"
   ],
   "metadata": {
    "collapsed": false
   },
   "id": "5e1105d26d821e86"
  },
  {
   "cell_type": "code",
   "execution_count": null,
   "outputs": [],
   "source": [
    "plt.figure(figsize=(10, 6))\n",
    "plt.plot(history.history['accuracy'])\n",
    "plt.plot(history.history['val_accuracy'])\n",
    "plt.title('Model Accuracy')\n",
    "plt.xlabel('Epoch')\n",
    "plt.ylabel('Accuracy')\n",
    "plt.legend(['Train', 'Validation'], loc='upper right')\n",
    "\n",
    "plt.tight_layout()\n",
    "plt.show()"
   ],
   "metadata": {
    "collapsed": false
   },
   "id": "bd28eee9b7918bd4"
  },
  {
   "cell_type": "code",
   "execution_count": null,
   "outputs": [],
   "source": [
    "def save_my_model(model, history, type=None):\n",
    "    accuracy = history.history['accuracy'][-1] * 1000\n",
    "    val_accuracy = history.history['val_accuracy'][-1] * 1000\n",
    "    \n",
    "    model.save(f'../models/model_bali_{type}_{int(accuracy)}_{int(val_accuracy)}.h5')"
   ],
   "metadata": {
    "collapsed": false
   },
   "id": "42f7cd042649b5d0"
  },
  {
   "cell_type": "code",
   "execution_count": null,
   "outputs": [],
   "source": [
    "save_my_model(model, history, type='conv')"
   ],
   "metadata": {
    "collapsed": false
   },
   "id": "f779faacf3db058c"
  },
  {
   "cell_type": "markdown",
   "source": [
    "# Using Transfer Learning"
   ],
   "metadata": {
    "collapsed": false
   },
   "id": "24af2c20bfb908c3"
  },
  {
   "cell_type": "code",
   "execution_count": null,
   "outputs": [],
   "source": [
    "base_model = tf.keras.applications.EfficientNetV2B0(\n",
    "    include_top=False,\n",
    "    weights='imagenet',\n",
    "    input_shape=(150, 150, 3)\n",
    ")\n",
    "\n",
    "base_model.trainable = False\n",
    "\n",
    "inputs = tf.keras.Input(shape=(150, 150, 3))\n",
    "\n",
    "model = tf.keras.models.Sequential([\n",
    "    inputs,\n",
    "    base_model,\n",
    "    tf.keras.layers.Flatten(),\n",
    "    tf.keras.layers.Dense(716, activation='relu'),\n",
    "    tf.keras.layers.Dropout(0.2),\n",
    "    tf.keras.layers.Dense(32, activation='softmax')\n",
    "], name='Lampungnese_Script')\n",
    "\n",
    "model.summary()"
   ],
   "metadata": {
    "collapsed": false
   },
   "id": "306a637d711f7d5c"
  },
  {
   "cell_type": "code",
   "execution_count": null,
   "outputs": [],
   "source": [
    "model.compile(\n",
    "    optimizer=tf.keras.optimizers.AdamW(learning_rate=0.0005),\n",
    "    loss='categorical_crossentropy',\n",
    "    metrics=['accuracy']\n",
    ")"
   ],
   "metadata": {
    "collapsed": false
   },
   "id": "5e0fd03ef5f744ac"
  },
  {
   "cell_type": "code",
   "execution_count": null,
   "outputs": [],
   "source": [
    "history = model.fit(\n",
    "    train_ds,\n",
    "    epochs=50,\n",
    "    validation_data=valid_ds,\n",
    "    verbose=1,\n",
    "    callbacks=[tf.keras.callbacks.EarlyStopping(monitor='val_accuracy', patience=3), callbacks]\n",
    ")"
   ],
   "metadata": {
    "collapsed": false
   },
   "id": "b21dc0f9b674c567"
  },
  {
   "cell_type": "code",
   "execution_count": null,
   "outputs": [],
   "source": [
    "plt.figure(figsize=(10, 6))\n",
    "plt.plot(history.history['accuracy'])\n",
    "plt.plot(history.history['val_accuracy'])\n",
    "plt.title('Model Accuracy')\n",
    "plt.xlabel('Epoch')\n",
    "plt.ylabel('Accuracy')\n",
    "\n",
    "plt.ylim(bottom=0.80)\n",
    "plt.legend(['Train', 'Validation'], loc='upper right')\n",
    "\n",
    "plt.tight_layout()\n",
    "plt.show()"
   ],
   "metadata": {
    "collapsed": false
   },
   "id": "ddd69a47eca95f1e"
  },
  {
   "cell_type": "code",
   "execution_count": null,
   "outputs": [],
   "source": [
    "save_my_model(model, history, type='efficientnet_v2')"
   ],
   "metadata": {
    "collapsed": false
   },
   "id": "d4b589cddf7b9551"
  },
  {
   "cell_type": "code",
   "execution_count": null,
   "outputs": [],
   "source": [
    "model = tf.keras.models.load_model('../models/model_lampung.h5')\n",
    "model.summary()"
   ],
   "metadata": {
    "collapsed": false
   },
   "id": "312fa5fd41ee6532"
  }
 ],
 "metadata": {
  "kernelspec": {
   "display_name": "Python 3",
   "language": "python",
   "name": "python3"
  },
  "language_info": {
   "codemirror_mode": {
    "name": "ipython",
    "version": 2
   },
   "file_extension": ".py",
   "mimetype": "text/x-python",
   "name": "python",
   "nbconvert_exporter": "python",
   "pygments_lexer": "ipython2",
   "version": "2.7.6"
  }
 },
 "nbformat": 4,
 "nbformat_minor": 5
}
