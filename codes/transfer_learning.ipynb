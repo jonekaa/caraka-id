{
 "cells": [
  {
   "cell_type": "code",
   "execution_count": 1,
   "id": "initial_id",
   "metadata": {
    "collapsed": true,
    "ExecuteTime": {
     "end_time": "2023-12-04T10:28:02.453346100Z",
     "start_time": "2023-12-04T10:27:48.879261900Z"
    }
   },
   "outputs": [],
   "source": [
    "import tensorflow as tf\n",
    "import pathlib\n",
    "import PIL\n",
    "import matplotlib.pyplot as plt"
   ]
  },
  {
   "cell_type": "code",
   "execution_count": 2,
   "outputs": [
    {
     "name": "stdout",
     "output_type": "stream",
     "text": [
      "2.14.1\n"
     ]
    }
   ],
   "source": [
    "print(tf.__version__)"
   ],
   "metadata": {
    "collapsed": false,
    "ExecuteTime": {
     "end_time": "2023-12-04T10:28:02.577978900Z",
     "start_time": "2023-12-04T10:28:02.455863200Z"
    }
   },
   "id": "20edef04dafb77a7"
  },
  {
   "cell_type": "code",
   "execution_count": 3,
   "outputs": [
    {
     "name": "stdout",
     "output_type": "stream",
     "text": [
      "..\\data\\Aksara-Sunda\n"
     ]
    }
   ],
   "source": [
    "data_dir = pathlib.Path('../data/Aksara-Sunda')\n",
    "print(data_dir)"
   ],
   "metadata": {
    "collapsed": false,
    "ExecuteTime": {
     "end_time": "2023-12-04T10:28:02.614578500Z",
     "start_time": "2023-12-04T10:28:02.485106400Z"
    }
   },
   "id": "87068739485e2c7"
  },
  {
   "cell_type": "code",
   "execution_count": 4,
   "outputs": [
    {
     "name": "stdout",
     "output_type": "stream",
     "text": [
      "..\\data\\Aksara-Sunda\\a\\a_1.jpg\n"
     ]
    },
    {
     "data": {
      "text/plain": "<PIL.JpegImagePlugin.JpegImageFile image mode=RGB size=150x150>",
      "image/png": "[encoded data removed]",
      "image/jpeg": "[encoded data removed]"
     },
     "execution_count": 4,
     "metadata": {},
     "output_type": "execute_result"
    }
   ],
   "source": [
    "a = list(data_dir.glob('a/*'))\n",
    "print(a[0])\n",
    "PIL.Image.open(str(a[0]))"
   ],
   "metadata": {
    "collapsed": false,
    "ExecuteTime": {
     "end_time": "2023-12-04T10:28:02.687304400Z",
     "start_time": "2023-12-04T10:28:02.505935800Z"
    }
   },
   "id": "2fb29382db9fe94a"
  },
  {
   "cell_type": "code",
   "execution_count": 5,
   "outputs": [
    {
     "name": "stdout",
     "output_type": "stream",
     "text": [
      "..\\data\\Aksara-Sunda\\vowels_ng\\00.jpg\n"
     ]
    },
    {
     "data": {
      "text/plain": "<PIL.JpegImagePlugin.JpegImageFile image mode=RGB size=150x150>",
      "image/png": "[encoded data removed]",
      "image/jpeg": "[encoded data removed]"
     },
     "execution_count": 5,
     "metadata": {},
     "output_type": "execute_result"
    }
   ],
   "source": [
    "ng = list(data_dir.glob('vowels_ng/*'))\n",
    "print(ng[0])\n",
    "PIL.Image.open(str(ng[0]))"
   ],
   "metadata": {
    "collapsed": false,
    "ExecuteTime": {
     "end_time": "2023-12-04T10:28:03.000056500Z",
     "start_time": "2023-12-04T10:28:02.599384600Z"
    }
   },
   "id": "5c289deb20851b93"
  },
  {
   "cell_type": "code",
   "execution_count": 6,
   "outputs": [
    {
     "name": "stdout",
     "output_type": "stream",
     "text": [
      "Found 12460 files belonging to 42 classes.\n",
      "Using 10591 files for training.\n"
     ]
    }
   ],
   "source": [
    "train_dataset = tf.keras.preprocessing.image_dataset_from_directory(\n",
    "    data_dir,\n",
    "    validation_split=0.15,\n",
    "    subset='training',\n",
    "    seed=123,\n",
    "    label_mode='categorical',\n",
    "    image_size=(150, 150),\n",
    "    batch_size=32\n",
    ")"
   ],
   "metadata": {
    "collapsed": false,
    "ExecuteTime": {
     "end_time": "2023-12-04T10:28:06.323877500Z",
     "start_time": "2023-12-04T10:28:02.640103Z"
    }
   },
   "id": "813fde9417015c48"
  },
  {
   "cell_type": "code",
   "execution_count": 7,
   "outputs": [
    {
     "name": "stdout",
     "output_type": "stream",
     "text": [
      "Found 12460 files belonging to 42 classes.\n",
      "Using 1869 files for validation.\n"
     ]
    }
   ],
   "source": [
    "valid_dataset = tf.keras.preprocessing.image_dataset_from_directory(\n",
    "    data_dir,\n",
    "    validation_split=0.15,\n",
    "    subset='validation',\n",
    "    seed=123,\n",
    "    label_mode='categorical',\n",
    "    image_size=(150, 150),\n",
    "    batch_size=32\n",
    ")"
   ],
   "metadata": {
    "collapsed": false,
    "ExecuteTime": {
     "end_time": "2023-12-04T10:28:09.043613100Z",
     "start_time": "2023-12-04T10:28:06.327888200Z"
    }
   },
   "id": "7a00d7f9235644cd"
  },
  {
   "cell_type": "code",
   "execution_count": 8,
   "outputs": [
    {
     "name": "stdout",
     "output_type": "stream",
     "text": [
      "['a', 'ae', 'ba', 'ca', 'da', 'e', 'eu', 'fa', 'ga', 'ha', 'i', 'ja', 'ka', 'la', 'ma', 'na', 'nga', 'nya', 'o', 'pa', 'qa', 'ra', 'sa', 'ta', 'u', 'va', 'vowels_e', 'vowels_ee', 'vowels_eu', 'vowels_h', 'vowels_i', 'vowels_la', 'vowels_ng', 'vowels_o', 'vowels_r', 'vowels_u', 'vowels_x', 'vowels_ya', 'wa', 'xa', 'ya', 'za']\n"
     ]
    }
   ],
   "source": [
    "class_names = train_dataset.class_names\n",
    "print(class_names)"
   ],
   "metadata": {
    "collapsed": false,
    "ExecuteTime": {
     "end_time": "2023-12-04T10:28:09.073412200Z",
     "start_time": "2023-12-04T10:28:09.044689700Z"
    }
   },
   "id": "442daf3df348dc0f"
  },
  {
   "cell_type": "markdown",
   "source": [
    "# EfficientNet V2B0"
   ],
   "metadata": {
    "collapsed": false
   },
   "id": "46f4d6ed325e1650"
  },
  {
   "cell_type": "code",
   "execution_count": null,
   "outputs": [],
   "source": [
    "pretrained_model = tf.keras.applications.EfficientNetV2B0(\n",
    "    include_top=False,\n",
    "    weights='imagenet',\n",
    "    input_shape=(150, 150, 3),\n",
    "    pooling='avg',\n",
    "    classes=len(class_names)\n",
    ")\n",
    "\n",
    "for layer in pretrained_model.layers:\n",
    "    layer.trainable = False\n",
    "    \n",
    "efficientnet_model = tf.keras.models.Sequential([\n",
    "    pretrained_model,\n",
    "    tf.keras.layers.Flatten(),\n",
    "    tf.keras.layers.Dense(716, activation='relu'),\n",
    "    tf.keras.layers.Dense(42, activation='softmax')\n",
    "])\n",
    "\n",
    "efficientnet_model.summary()"
   ],
   "metadata": {
    "collapsed": false
   },
   "id": "651fdaa802a47ad7"
  },
  {
   "cell_type": "code",
   "execution_count": null,
   "outputs": [],
   "source": [
    "efficientnet_model.compile(optimizer=tf.keras.optimizers.AdamW(learning_rate=0.0005),\n",
    "                           loss='categorical_crossentropy',\n",
    "                           metrics=['accuracy'])\n",
    "\n",
    "history = efficientnet_model.fit(\n",
    "    train_dataset,\n",
    "    epochs=10,\n",
    "    validation_data=valid_dataset\n",
    ")"
   ],
   "metadata": {
    "collapsed": false
   },
   "id": "1613c9afa04e190b"
  },
  {
   "cell_type": "code",
   "execution_count": null,
   "outputs": [],
   "source": [
    "plt.figure(figsize=(12, 6))\n",
    "plt.subplot(1, 2, 1)\n",
    "plt.plot(history.history['accuracy'])\n",
    "plt.plot(history.history['val_accuracy'])\n",
    "plt.xlabel('Epochs')\n",
    "plt.ylabel('Accuracy')\n",
    "plt.title('Model Accuracy')\n",
    "\n",
    "plt.subplot(1, 2, 2)\n",
    "plt.plot(history.history['loss'])\n",
    "plt.plot(history.history['val_loss'])\n",
    "plt.xlabel('Epochs')\n",
    "plt.ylabel('Losses')\n",
    "plt.title('Model Losses')\n",
    "\n",
    "plt.tight_layout()\n",
    "plt.show()"
   ],
   "metadata": {
    "collapsed": false
   },
   "id": "fe746a19074439d8"
  },
  {
   "cell_type": "code",
   "execution_count": null,
   "outputs": [],
   "source": [
    "efficientnet_model.save('../models/model_trained_efficientNetV2B09998A.h5')"
   ],
   "metadata": {
    "collapsed": false
   },
   "id": "59283c425505f229"
  },
  {
   "cell_type": "markdown",
   "source": [
    "# EfficientNetV2M"
   ],
   "metadata": {
    "collapsed": false
   },
   "id": "4b49591dc57f0a87"
  },
  {
   "cell_type": "code",
   "execution_count": null,
   "outputs": [],
   "source": [
    "pretrained_model2 = tf.keras.applications.EfficientNetV2M(\n",
    "    include_top=False,\n",
    "    weights=\"imagenet\",\n",
    "    input_shape=(150,150,3),\n",
    "    pooling='avg',\n",
    "    classes=len(class_names),\n",
    "    classifier_activation=\"softmax\",\n",
    "    include_preprocessing=True\n",
    ")\n",
    "for layer in pretrained_model2.layers:\n",
    "    layer.trainable = False\n",
    "    \n",
    "efficientNetV2M_model = tf.keras.models.Sequential([\n",
    "    pretrained_model2,\n",
    "    tf.keras.layers.Flatten(),\n",
    "    tf.keras.layers.Dense(512, activation='relu'),\n",
    "    tf.keras.layers.Dense(42, activation='softmax')\n",
    "])\n",
    "\n",
    "efficientNetV2M_model.summary()"
   ],
   "metadata": {
    "collapsed": false
   },
   "id": "98d84208de1cc647"
  },
  {
   "cell_type": "code",
   "execution_count": null,
   "outputs": [],
   "source": [
    "efficientNetV2M_model.compile(optimizer=tf.keras.optimizers.AdamW(learning_rate=0.0005),\n",
    "                           loss='categorical_crossentropy',\n",
    "                           metrics=['accuracy'])\n",
    "\n",
    "history = efficientNetV2M_model.fit(\n",
    "    train_dataset,\n",
    "    epochs=10,\n",
    "    validation_data=valid_dataset\n",
    ")"
   ],
   "metadata": {
    "collapsed": false
   },
   "id": "b5ac7834eaf40b42"
  },
  {
   "cell_type": "code",
   "execution_count": null,
   "outputs": [],
   "source": [
    "plt.figure(figsize=(12, 6))\n",
    "plt.subplot(1, 2, 1)\n",
    "plt.plot(history.history['accuracy'])\n",
    "plt.plot(history.history['val_accuracy'])\n",
    "plt.xlabel('Epochs')\n",
    "plt.ylabel('Accuracy')\n",
    "plt.title('Model Accuracy')\n",
    "\n",
    "plt.subplot(1, 2, 2)\n",
    "plt.plot(history.history['loss'])\n",
    "plt.plot(history.history['val_loss'])\n",
    "plt.xlabel('Epochs')\n",
    "plt.ylabel('Losses')\n",
    "plt.title('Model Losses')\n",
    "\n",
    "plt.tight_layout()\n",
    "plt.show()"
   ],
   "metadata": {
    "collapsed": false
   },
   "id": "a8085def2614b58f"
  },
  {
   "cell_type": "code",
   "execution_count": null,
   "outputs": [],
   "source": [
    "efficientNetV2M_model.save('../models/model_trained_efficientNetV2M.h5')"
   ],
   "metadata": {
    "collapsed": false
   },
   "id": "8713e6be0fa18efb"
  },
  {
   "cell_type": "markdown",
   "source": [
    "# EfficientNetV2B3"
   ],
   "metadata": {
    "collapsed": false
   },
   "id": "93cbb8fa6e4df6f6"
  },
  {
   "cell_type": "code",
   "execution_count": null,
   "outputs": [],
   "source": [
    "pretrained_model3 = tf.keras.applications.EfficientNetV2B3(\n",
    "    include_top=False,\n",
    "    weights=\"imagenet\",\n",
    "    input_shape=(150,150,3),\n",
    "    pooling='avg',\n",
    "    classes=len(class_names),\n",
    "    classifier_activation=\"softmax\",\n",
    "    include_preprocessing=True,\n",
    ")\n",
    "for layer in pretrained_model3.layers:\n",
    "    layer.trainable = False\n",
    "    \n",
    "efficientNetV2B3_model = tf.keras.models.Sequential([\n",
    "    pretrained_model3,\n",
    "    tf.keras.layers.Flatten(),\n",
    "    tf.keras.layers.Dense(512, activation='relu'),\n",
    "    tf.keras.layers.Dense(42, activation='softmax')\n",
    "])\n",
    "\n",
    "efficientNetV2B3_model.summary()"
   ],
   "metadata": {
    "collapsed": false
   },
   "id": "a2f00a3833e4679e"
  },
  {
   "cell_type": "code",
   "execution_count": null,
   "outputs": [],
   "source": [
    "efficientNetV2B3_model.compile(optimizer=tf.keras.optimizers.AdamW(learning_rate=0.0005),\n",
    "                           loss='categorical_crossentropy',\n",
    "                           metrics=['accuracy'])\n",
    "\n",
    "history = efficientNetV2B3_model.fit(\n",
    "    train_dataset,\n",
    "    epochs=10,\n",
    "    validation_data=valid_dataset\n",
    ")"
   ],
   "metadata": {
    "collapsed": false
   },
   "id": "45a81789f1841539"
  },
  {
   "cell_type": "code",
   "execution_count": null,
   "outputs": [],
   "source": [
    "plt.figure(figsize=(12, 6))\n",
    "plt.subplot(1, 2, 1)\n",
    "plt.plot(history.history['accuracy'])\n",
    "plt.plot(history.history['val_accuracy'])\n",
    "plt.xlabel('Epochs')\n",
    "plt.ylabel('Accuracy')\n",
    "plt.title('Model Accuracy')\n",
    "\n",
    "plt.subplot(1, 2, 2)\n",
    "plt.plot(history.history['loss'])\n",
    "plt.plot(history.history['val_loss'])\n",
    "plt.xlabel('Epochs')\n",
    "plt.ylabel('Losses')\n",
    "plt.title('Model Losses')\n",
    "\n",
    "plt.tight_layout()\n",
    "plt.show()"
   ],
   "metadata": {
    "collapsed": false
   },
   "id": "f8117f8b42f89165"
  },
  {
   "cell_type": "code",
   "execution_count": null,
   "outputs": [],
   "source": [
    "efficientNetV2B3_model.save('../models/model_trained_efficientNetV2B3.h5')"
   ],
   "metadata": {
    "collapsed": false
   },
   "id": "571f0e4355006d9"
  }
 ],
 "metadata": {
  "kernelspec": {
   "display_name": "Python 3",
   "language": "python",
   "name": "python3"
  },
  "language_info": {
   "codemirror_mode": {
    "name": "ipython",
    "version": 2
   },
   "file_extension": ".py",
   "mimetype": "text/x-python",
   "name": "python",
   "nbconvert_exporter": "python",
   "pygments_lexer": "ipython2",
   "version": "2.7.6"
  }
 },
 "nbformat": 4,
 "nbformat_minor": 5
}
